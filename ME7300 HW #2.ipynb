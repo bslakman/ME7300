{
 "cells": [
  {
   "cell_type": "markdown",
   "metadata": {},
   "source": [
    "# Imports"
   ]
  },
  {
   "cell_type": "code",
   "execution_count": 2,
   "metadata": {
    "collapsed": true
   },
   "outputs": [],
   "source": [
    "import numpy as np\n",
    "import scipy\n",
    "from matplotlib import pyplot as plt"
   ]
  },
  {
   "cell_type": "markdown",
   "metadata": {},
   "source": [
    "## Figure out temperature at which fuel and air react.\n",
    "Use a K of 1.35"
   ]
  },
  {
   "cell_type": "code",
   "execution_count": 53,
   "metadata": {
    "collapsed": false
   },
   "outputs": [
    {
     "data": {
      "text/plain": [
       "667.1388992933653"
      ]
     },
     "execution_count": 53,
     "metadata": {},
     "output_type": "execute_result"
    }
   ],
   "source": [
    "T1 = 298.0 # K\n",
    "c_ratio = 10.0\n",
    "K = 1.35\n",
    "T2 = T1*c_ratio**(K-1)\n",
    "T2"
   ]
  },
  {
   "cell_type": "markdown",
   "metadata": {},
   "source": [
    "## Define sets of coefficients to solve for h(T).\n",
    "These are from R.C. Reid et al., \"The Properties of Gases and Liquids\", 1977."
   ]
  },
  {
   "cell_type": "code",
   "execution_count": 3,
   "metadata": {
    "collapsed": true
   },
   "outputs": [],
   "source": [
    "a_eth = 9.01\n",
    "b_eth = 214e-3\n",
    "c_eth = -83.9e-6\n",
    "d_eth = 1.37e-9"
   ]
  },
  {
   "cell_type": "code",
   "execution_count": 4,
   "metadata": {
    "collapsed": false
   },
   "outputs": [],
   "source": [
    "a_o2 = 28.1\n",
    "b_o2 = 0.0\n",
    "c_o2 = 17.5e-6\n",
    "d_o2 = -10.7e-9"
   ]
  },
  {
   "cell_type": "code",
   "execution_count": 5,
   "metadata": {
    "collapsed": false
   },
   "outputs": [],
   "source": [
    "a_n2 = 31.2\n",
    "b_n2 = -13.6e-3\n",
    "c_n2 = 26.8e-6\n",
    "d_n2 = -11.7e-9"
   ]
  },
  {
   "cell_type": "markdown",
   "metadata": {},
   "source": [
    "## Define a function that gives us the enthalpy"
   ]
  },
  {
   "cell_type": "code",
   "execution_count": 45,
   "metadata": {
    "collapsed": true
   },
   "outputs": [],
   "source": [
    "def enthalpy(coeff, T):\n",
    "    \"\"\"\n",
    "    Takes array of coefficients for a particular compound and the temperature in K and returns the enthalpy \n",
    "    accoding to a polynomial function.\n",
    "    \"\"\"\n",
    "    p = np.zeros(5)\n",
    "    for i, c in enumerate(coeff):\n",
    "        p[i] = 1.0/(4.0-i) * c\n",
    "    return np.polyval(p, T)\n",
    "\n",
    "def enthalpy_highT(coeff, T):\n",
    "    \"\"\"\n",
    "    Takes array of coefficients for a particular compound and the temperature in K and returns the enthalpy \n",
    "    accoding to a polynomial function.\n",
    "    \"\"\"\n",
    "    return coeff[0]*(4.0/7.0)*T**(7.0/4.0) + coeff[1]*(2.0/3.0)*T**(3.0/2.0) + coeff[2]*(4.0/5.0)*T**(5.0/4.0) + coeff[3]*T"
   ]
  },
  {
   "cell_type": "code",
   "execution_count": 7,
   "metadata": {
    "collapsed": false
   },
   "outputs": [
    {
     "data": {
      "text/plain": [
       "16974.059371744792"
      ]
     },
     "execution_count": 7,
     "metadata": {},
     "output_type": "execute_result"
    }
   ],
   "source": [
    "coeff_o2 = np.array([d_o2, c_o2, b_o2, a_o2])\n",
    "enthalpy(coeff_o2, 575.0)"
   ]
  },
  {
   "cell_type": "markdown",
   "metadata": {},
   "source": [
    "Define all sets of coefficients into numpy arrays. Also define dictionaries for enthalpies of formation and at 298 K."
   ]
  },
  {
   "cell_type": "code",
   "execution_count": 46,
   "metadata": {
    "collapsed": false
   },
   "outputs": [],
   "source": [
    "coeff_eth = np.array([d_eth, c_eth, b_eth, a_eth])\n",
    "coeff_n2 = np.array([-0.298, 5.19, -26.9, 72.0]) # These are at the higher temp range.\n",
    "coeff_co2 = np.array([0.0, -1.96, 30.5, -55.6]) # These are at the higher temp range.\n",
    "coeff_h2o = np.array([-0.858, 15.6, -85.4, 180.0]) # These are at the higher temp range."
   ]
  },
  {
   "cell_type": "code",
   "execution_count": 36,
   "metadata": {
    "collapsed": false
   },
   "outputs": [],
   "source": [
    "h_f = {'eth': -235310, 'o2': 0.0, 'n2': 0.0, 'co2': -393520, 'h2o': -241820}\n",
    "h_298 = {'eth': enthalpy(coeff_eth,298.0), 'o2': 8682, 'n2': 8669, 'co2': 9364, 'h2o': 9904 }"
   ]
  },
  {
   "cell_type": "markdown",
   "metadata": {},
   "source": [
    "## Define the function we need to solve\n",
    "First calculated the left hand side (LHS), then defined the function we need to find the roots of as LHS-RHS = 0."
   ]
  },
  {
   "cell_type": "code",
   "execution_count": 56,
   "metadata": {
    "collapsed": false
   },
   "outputs": [],
   "source": [
    "LHS = (h_f['eth']+enthalpy(coeff_eth,T2)-h_298['eth']) + 3*(h_f['o2']+22970-h_298['o2']) + 11.34*(h_f['n2']+19685-h_298['n2'])"
   ]
  },
  {
   "cell_type": "code",
   "execution_count": 57,
   "metadata": {
    "collapsed": false
   },
   "outputs": [],
   "source": [
    "func = lambda Tp: LHS - (2*(h_f['co2']+enthalpy_highT(coeff_co2,Tp)-h_298['co2']) + 3*(h_f['h2o']+enthalpy_highT(coeff_h2o,Tp)-h_298['h2o']) + 11.34*(h_f['n2']+enthalpy_highT(coeff_n2,Tp)-h_298['n2'])) "
   ]
  },
  {
   "cell_type": "markdown",
   "metadata": {},
   "source": [
    "Plot the function, so that we can get an initial guess for scipy.optimize.fsolve()."
   ]
  },
  {
   "cell_type": "code",
   "execution_count": 58,
   "metadata": {
    "collapsed": false
   },
   "outputs": [],
   "source": [
    "Tp = np.linspace(600, 3000, 100)"
   ]
  },
  {
   "cell_type": "code",
   "execution_count": 59,
   "metadata": {
    "collapsed": false
   },
   "outputs": [
    {
     "data": {
      "image/png": "[encoded data removed]",
      "text/plain": [
       "<matplotlib.figure.Figure at 0x109acdf10>"
      ]
     },
     "metadata": {},
     "output_type": "display_data"
    }
   ],
   "source": [
    "%matplotlib inline\n",
    "import seaborn\n",
    "plt.plot(Tp, func(Tp))\n",
    "plt.xlabel(\"Tp\")\n",
    "plt.ylabel(\"expression value\")\n",
    "plt.show()"
   ]
  },
  {
   "cell_type": "code",
   "execution_count": 60,
   "metadata": {
    "collapsed": true
   },
   "outputs": [],
   "source": [
    "from scipy.optimize import fsolve"
   ]
  },
  {
   "cell_type": "code",
   "execution_count": 61,
   "metadata": {
    "collapsed": false
   },
   "outputs": [
    {
     "name": "stdout",
     "output_type": "stream",
     "text": [
      "[ 2668.29465778]\n"
     ]
    }
   ],
   "source": [
    "print fsolve(func, 2500)"
   ]
  }
 ],
 "metadata": {
  "kernelspec": {
   "display_name": "Python 2",
   "language": "python",
   "name": "python2"
  },
  "language_info": {
   "codemirror_mode": {
    "name": "ipython",
    "version": 2
   },
   "file_extension": ".py",
   "mimetype": "text/x-python",
   "name": "python",
   "nbconvert_exporter": "python",
   "pygments_lexer": "ipython2",
   "version": "2.7.5"
  }
 },
 "nbformat": 4,
 "nbformat_minor": 0
}
